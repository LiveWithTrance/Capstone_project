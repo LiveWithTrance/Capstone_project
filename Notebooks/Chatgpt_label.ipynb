{
 "cells": [
  {
   "cell_type": "markdown",
   "metadata": {},
   "source": [
    "# Sentiment Annotation"
   ]
  },
  {
   "cell_type": "code",
   "execution_count": 2,
   "metadata": {},
   "outputs": [
    {
     "name": "stdout",
     "output_type": "stream",
     "text": [
      "Collecting numpy>=1.20.3\n",
      "  Obtaining dependency information for numpy>=1.20.3 from https://files.pythonhosted.org/packages/11/10/943cfb579f1a02909ff96464c69893b1d25be3731b5d3652c2e0cf1281ea/numpy-1.24.4-cp38-cp38-macosx_10_9_x86_64.whl.metadata\n",
      "  Using cached numpy-1.24.4-cp38-cp38-macosx_10_9_x86_64.whl.metadata (5.6 kB)\n",
      "Using cached numpy-1.24.4-cp38-cp38-macosx_10_9_x86_64.whl (19.8 MB)\n",
      "Installing collected packages: numpy\n",
      "  Attempting uninstall: numpy\n",
      "    Found existing installation: numpy 1.19.5\n",
      "    Uninstalling numpy-1.19.5:\n",
      "      Successfully uninstalled numpy-1.19.5\n",
      "\u001b[31mERROR: pip's dependency resolver does not currently take into account all the packages that are installed. This behaviour is the source of the following dependency conflicts.\n",
      "dial-clean 0.1.1 requires numpy==1.19.5, but you have numpy 1.24.4 which is incompatible.\u001b[0m\u001b[31m\n",
      "\u001b[0mSuccessfully installed numpy-1.24.4\n"
     ]
    }
   ],
   "source": [
    "!pip install --upgrade \"numpy>=1.20.3\"\n"
   ]
  },
  {
   "cell_type": "code",
   "execution_count": 1,
   "metadata": {},
   "outputs": [],
   "source": [
    "import openai\n",
    "import pandas as pd\n",
    "import re\n",
    "\n",
    "# Load your dataset from an Excel file\n",
    "col_names_comment = [\"video_link\",\"cid\",\"comment_time\",\"likes\",\"replies\",\"comment_IP\",\"comment\"]\n",
    "col_names_video=[\"video_id\",\"video_description\",\"video_topic\",\"video_length\",\"video_link\",\"release_date\",\"release_account\",\"likes\",\"num_comments\",\"archives\",\"shares\"]\n",
    "\n",
    "li_comments = pd.read_excel(\"data/cleaned_li_comments.xlsx\")\n",
    "li_video = pd.read_excel(\"data/cleaned_li_video.xlsx\")\n",
    "aito_comments = pd.read_excel(\"data/cleaned_aito_comments.xlsx\")\n",
    "aito_video = pd.read_excel(\"data/cleaned_aito_video.xlsx\")\n",
    "li_comments.columns = col_names_comment\n",
    "aito_comments.columns = col_names_comment\n",
    "li_video.columns = col_names_video\n",
    "aito_video.columns = col_names_video"
   ]
  },
  {
   "cell_type": "code",
   "execution_count": null,
   "metadata": {},
   "outputs": [
    {
     "name": "stdout",
     "output_type": "stream",
     "text": [
      "Columns with missing values:\n",
      "video_link      False\n",
      "cid             False\n",
      "comment_time    False\n",
      "likes           False\n",
      "replies         False\n",
      "comment_IP      False\n",
      "comment         False\n",
      "dtype: bool\n"
     ]
    }
   ],
   "source": [
    "\n",
    "# Check for missing values in each column\n",
    "missing_values_per_column = li_comments.isnull().any()\n",
    "\n",
    "print(\"Columns with missing values:\")\n",
    "print(missing_values_per_column)\n"
   ]
  },
  {
   "cell_type": "code",
   "execution_count": null,
   "metadata": {},
   "outputs": [
    {
     "name": "stdout",
     "output_type": "stream",
     "text": [
      "Columns with missing values:\n",
      "video_link      False\n",
      "cid             False\n",
      "comment_time    False\n",
      "likes           False\n",
      "replies         False\n",
      "comment_IP      False\n",
      "comment         False\n",
      "dtype: bool\n"
     ]
    }
   ],
   "source": [
    "\n",
    "# Check for missing values in each column\n",
    "missing_values_per_column = aito_comments.isnull().any()\n",
    "\n",
    "print(\"Columns with missing values:\")\n",
    "print(missing_values_per_column)"
   ]
  },
  {
   "cell_type": "markdown",
   "metadata": {},
   "source": [
    "Use english prompt for Chinese comment to test annotation quality"
   ]
  },
  {
   "cell_type": "code",
   "execution_count": null,
   "metadata": {},
   "outputs": [
    {
     "name": "stdout",
     "output_type": "stream",
     "text": [
      "- Click farm: False\n",
      "- Sentiment: 1\n"
     ]
    }
   ],
   "source": [
    "\n",
    "# Assuming you've already set your API key\n",
    "openai.api_key = ''\n",
    "\n",
    "def annotate_article(content):\n",
    "    system_prompt = \"You are a highly knowledgeable assistant asked to analyze Douyin comments.\"\n",
    "    user_prompt = (\n",
    "        f\"Analyze this comment:\\n{content}\\n\\n\"\n",
    "        \"Strictly just provide the following annotation:\\n\"\n",
    "        \" What is the sentiment of this comment (0,1,2)\\n\"\n",
    "    )\n",
    "    try:\n",
    "        response = openai.ChatCompletion.create(\n",
    "            model=\"gpt-3.5-turbo-0125\",  # Adjust model as necessary\n",
    "            messages=[\n",
    "                {\"role\": \"system\", \"content\": system_prompt},\n",
    "                {\"role\": \"user\", \"content\": user_prompt}\n",
    "            ]\n",
    "        )\n",
    "        annotations = response.choices[0].message['content']\n",
    "        print(annotations)\n",
    "        #parts = annotations.split(\"\\n\\n\")  # Assuming each section is separated by two newlines\n",
    "        #return parts[:4]  # Return the first four sections\n",
    "    except Exception as e:\n",
    "        print(f\"An error occurred: {e}\")\n",
    "        return \"\"\n",
    "\n",
    "\n",
    "\n",
    "annotate_article(\"李想在我眼里就是个“司机”\")"
   ]
  },
  {
   "cell_type": "markdown",
   "metadata": {},
   "source": [
    "Use Chinese prompt for Chinese comment to test annotation quality"
   ]
  },
  {
   "cell_type": "code",
   "execution_count": 2,
   "metadata": {},
   "outputs": [
    {
     "data": {
      "text/plain": [
       "'negative'"
      ]
     },
     "execution_count": 2,
     "metadata": {},
     "output_type": "execute_result"
    }
   ],
   "source": [
    "\n",
    "# Assuming you've already set your API key\n",
    "openai.api_key = ''\n",
    "\n",
    "def annotate_comment(content):\n",
    "    system_prompt = \"你是分析抖音评论的专家\"\n",
    "    user_prompt = (\n",
    "        f\"分析这条评论:\\n{content}\\n\"\n",
    "        \"请分析这条评论的情感:(Negative / Neutral / Positive )\\n\"\n",
    "        \"你的输出应仅为一个单词\"\n",
    "    )\n",
    "\n",
    "    try:\n",
    "        response = openai.ChatCompletion.create(\n",
    "            model=\"gpt-3.5-turbo-0125\",  # Adjust model as necessary\n",
    "            messages=[\n",
    "                {\"role\": \"system\", \"content\": system_prompt},\n",
    "                {\"role\": \"user\", \"content\": user_prompt}\n",
    "            ]\n",
    "        )\n",
    "        annotations = response.choices[0].message['content']\n",
    "        sentiment = re.sub(\"[^a-zA-Z]\", \"\", annotations)\n",
    "        sentiment =sentiment.lower() \n",
    "        \n",
    "       \n",
    "        return sentiment\n",
    "        #return truthfulness, sentiment # Return the first four sections\n",
    "    except Exception as e:\n",
    "        print(f\"An error occurred: {e}\")\n",
    "        return \"\"\n",
    "\n",
    "annotate_comment('华为真牛，事故率这么高')\n"
   ]
  },
  {
   "cell_type": "markdown",
   "metadata": {},
   "source": [
    "# EYEBALL"
   ]
  },
  {
   "cell_type": "code",
   "execution_count": null,
   "metadata": {},
   "outputs": [],
   "source": [
    "num_processed = 0 # Store the number of comments annoted\n",
    "sentiment = []"
   ]
  },
  {
   "cell_type": "code",
   "execution_count": null,
   "metadata": {},
   "outputs": [],
   "source": [
    "import random\n",
    "\n",
    " \n",
    "# sample 5 comment every batch (batch = 100 here)\n",
    "def process_comments_in_batches(df,num_processed, batch_size=10, sample_size=5):\n",
    "    if (len(df)-num_processed)<100:\n",
    "        batch_size = len(df)-num_processed\n",
    "        num_processed = len(df)\n",
    "    results = []\n",
    "    sentiment = []\n",
    "    try:\n",
    "        comments = df.iloc[num_processed:num_processed+batch_size]['comment']\n",
    "    except:\n",
    "        comments = df.iloc[num_processed:]['comment']\n",
    "    \n",
    "    for comment in comments:\n",
    "        senti = annotate_comment(comment)\n",
    "        result = (comment,senti)\n",
    "        sentiment.append(senti)\n",
    "        results.append(result)\n",
    "        \n",
    "    num_processed += batch_size\n",
    "    sampled_comments = random.sample(results, min(sample_size, 5)) \n",
    "    return results,sampled_comments,sentiment,num_processed\n",
    "\n"
   ]
  },
  {
   "cell_type": "code",
   "execution_count": null,
   "metadata": {},
   "outputs": [],
   "source": [
    "results, sampled_comments,sentiment_1,num_processed_1= process_comments_in_batches(li_comments,num_processed)"
   ]
  },
  {
   "cell_type": "code",
   "execution_count": null,
   "metadata": {},
   "outputs": [
    {
     "data": {
      "text/plain": [
       "[('渐强扶弱，拜强欺弱，根本区别…再大的博物馆都没用', 'negative'),\n",
       " ('英国留学让你更坚定认为自己是英国人', 'neutral'),\n",
       " ('老爷子也是一个伟人[抱拳]', 'positive'),\n",
       " ('李光耀 要有认祖的初心', 'neutral'),\n",
       " ('看不明白吧，这回家多少是华人，确不是中国的铁盟。值得研究。', 'neutral'),\n",
       " ('胸怀大志，引领新加坡走向繁荣，功高盖世，敬佩之致。[666][赞]', 'positive'),\n",
       " ('汉语在李光耀家族是必须学的', 'neutral'),\n",
       " ('明白人', 'neutral'),\n",
       " ('为新加坡国父李光耀的中文点赞', 'positive'),\n",
       " ('沙发', 'neutral')]"
      ]
     },
     "execution_count": 86,
     "metadata": {},
     "output_type": "execute_result"
    }
   ],
   "source": [
    "results"
   ]
  },
  {
   "cell_type": "code",
   "execution_count": null,
   "metadata": {},
   "outputs": [
    {
     "data": {
      "text/plain": [
       "100"
      ]
     },
     "execution_count": 89,
     "metadata": {},
     "output_type": "execute_result"
    }
   ],
   "source": [
    "num_processed_1"
   ]
  },
  {
   "cell_type": "code",
   "execution_count": 3,
   "metadata": {},
   "outputs": [
    {
     "name": "stdout",
     "output_type": "stream",
     "text": [
      "An error occurred: Failed to create completion as the model generated invalid Unicode output. Unfortunately, this can happen in rare situations. Consider reviewing your prompt or reducing the temperature of your request. You can retry your request, or contact us through our help center at help.openai.com if the error persists. (Please include the request ID req_1af794706a54d21f512620d51606ba66 in your message.) {\n",
      "  \"error\": {\n",
      "    \"message\": \"Failed to create completion as the model generated invalid Unicode output. Unfortunately, this can happen in rare situations. Consider reviewing your prompt or reducing the temperature of your request. You can retry your request, or contact us through our help center at help.openai.com if the error persists. (Please include the request ID req_1af794706a54d21f512620d51606ba66 in your message.)\",\n",
      "    \"type\": \"server_error\",\n",
      "    \"param\": null,\n",
      "    \"code\": \"invalid_model_output\"\n",
      "  }\n",
      "}\n",
      " 500 {'error': {'message': 'Failed to create completion as the model generated invalid Unicode output. Unfortunately, this can happen in rare situations. Consider reviewing your prompt or reducing the temperature of your request. You can retry your request, or contact us through our help center at help.openai.com if the error persists. (Please include the request ID req_1af794706a54d21f512620d51606ba66 in your message.)', 'type': 'server_error', 'param': None, 'code': 'invalid_model_output'}} {'Date': 'Wed, 10 Apr 2024 14:06:30 GMT', 'Content-Type': 'application/json', 'Content-Length': '517', 'Connection': 'keep-alive', 'access-control-allow-origin': '*', 'openai-model': 'gpt-3.5-turbo-0125', 'openai-organization': 'tes-22', 'openai-processing-ms': '34300', 'openai-version': '2020-10-01', 'strict-transport-security': 'max-age=15724800; includeSubDomains', 'x-ratelimit-limit-requests': '5000', 'x-ratelimit-limit-tokens': '80000', 'x-ratelimit-remaining-requests': '4999', 'x-ratelimit-remaining-tokens': '79939', 'x-ratelimit-reset-requests': '12ms', 'x-ratelimit-reset-tokens': '45ms', 'x-request-id': 'req_1af794706a54d21f512620d51606ba66', 'CF-Cache-Status': 'DYNAMIC', 'Server': 'cloudflare', 'CF-RAY': '87234b69e91ee227-ORD', 'alt-svc': 'h3=\":443\"; ma=86400'}\n"
     ]
    }
   ],
   "source": [
    "#aito_comments['sentiment'] = aito_comments['comment'].map(annotate_comment)"
   ]
  },
  {
   "cell_type": "code",
   "execution_count": null,
   "metadata": {},
   "outputs": [],
   "source": [
    "li_comments.to_excel(\"Data/annotated_li_comment.xlsx\")"
   ]
  },
  {
   "cell_type": "code",
   "execution_count": 4,
   "metadata": {},
   "outputs": [
    {
     "data": {
      "text/html": [
       "<div>\n",
       "<style scoped>\n",
       "    .dataframe tbody tr th:only-of-type {\n",
       "        vertical-align: middle;\n",
       "    }\n",
       "\n",
       "    .dataframe tbody tr th {\n",
       "        vertical-align: top;\n",
       "    }\n",
       "\n",
       "    .dataframe thead th {\n",
       "        text-align: right;\n",
       "    }\n",
       "</style>\n",
       "<table border=\"1\" class=\"dataframe\">\n",
       "  <thead>\n",
       "    <tr style=\"text-align: right;\">\n",
       "      <th></th>\n",
       "      <th>video_link</th>\n",
       "      <th>cid</th>\n",
       "      <th>comment_time</th>\n",
       "      <th>likes</th>\n",
       "      <th>replies</th>\n",
       "      <th>comment_IP</th>\n",
       "      <th>comment</th>\n",
       "    </tr>\n",
       "  </thead>\n",
       "  <tbody>\n",
       "    <tr>\n",
       "      <th>0</th>\n",
       "      <td>https://www.douyin.com/video/6724238509927976206</td>\n",
       "      <td>6724315314135789568</td>\n",
       "      <td>2019-08-13 00:17:49</td>\n",
       "      <td>129</td>\n",
       "      <td>0</td>\n",
       "      <td>无</td>\n",
       "      <td>渐强扶弱，拜强欺弱，根本区别再大的博物馆都没用</td>\n",
       "    </tr>\n",
       "    <tr>\n",
       "      <th>1</th>\n",
       "      <td>https://www.douyin.com/video/6724238509927976206</td>\n",
       "      <td>6724307710353139712</td>\n",
       "      <td>2019-08-12 23:48:15</td>\n",
       "      <td>274</td>\n",
       "      <td>2</td>\n",
       "      <td>无</td>\n",
       "      <td>英国留学让你更坚定认为自己是英国人</td>\n",
       "    </tr>\n",
       "    <tr>\n",
       "      <th>2</th>\n",
       "      <td>https://www.douyin.com/video/6724238509927976206</td>\n",
       "      <td>6726852199668480000</td>\n",
       "      <td>2019-08-19 20:22:10</td>\n",
       "      <td>107</td>\n",
       "      <td>0</td>\n",
       "      <td>无</td>\n",
       "      <td>老爷子也是一个伟人</td>\n",
       "    </tr>\n",
       "    <tr>\n",
       "      <th>3</th>\n",
       "      <td>https://www.douyin.com/video/6724238509927976206</td>\n",
       "      <td>6724309456349589504</td>\n",
       "      <td>2019-08-12 23:55:03</td>\n",
       "      <td>214</td>\n",
       "      <td>2</td>\n",
       "      <td>无</td>\n",
       "      <td>李光耀 要有认祖的初心</td>\n",
       "    </tr>\n",
       "    <tr>\n",
       "      <th>4</th>\n",
       "      <td>https://www.douyin.com/video/6724238509927976206</td>\n",
       "      <td>6724324047796400128</td>\n",
       "      <td>2019-08-13 00:51:43</td>\n",
       "      <td>535</td>\n",
       "      <td>3</td>\n",
       "      <td>无</td>\n",
       "      <td>看不明白吧，这回家多少是华人，确不是中国的铁盟。值得研究。</td>\n",
       "    </tr>\n",
       "    <tr>\n",
       "      <th>...</th>\n",
       "      <td>...</td>\n",
       "      <td>...</td>\n",
       "      <td>...</td>\n",
       "      <td>...</td>\n",
       "      <td>...</td>\n",
       "      <td>...</td>\n",
       "      <td>...</td>\n",
       "    </tr>\n",
       "    <tr>\n",
       "      <th>42335</th>\n",
       "      <td>https://www.douyin.com/video/7350480407307078927</td>\n",
       "      <td>7350522030523710464</td>\n",
       "      <td>2024-03-26 12:19:41</td>\n",
       "      <td>2</td>\n",
       "      <td>0</td>\n",
       "      <td>湖北</td>\n",
       "      <td>理想的</td>\n",
       "    </tr>\n",
       "    <tr>\n",
       "      <th>42336</th>\n",
       "      <td>https://www.douyin.com/video/7350480407307078927</td>\n",
       "      <td>7350527617931410432</td>\n",
       "      <td>2024-03-26 12:41:19</td>\n",
       "      <td>2</td>\n",
       "      <td>0</td>\n",
       "      <td>河南</td>\n",
       "      <td>漂亮的豪车</td>\n",
       "    </tr>\n",
       "    <tr>\n",
       "      <th>42337</th>\n",
       "      <td>https://www.douyin.com/video/7350480407307078927</td>\n",
       "      <td>7350521168641030144</td>\n",
       "      <td>2024-03-26 12:16:20</td>\n",
       "      <td>6</td>\n",
       "      <td>0</td>\n",
       "      <td>湖南</td>\n",
       "      <td>现在的车越来越理想化了，科技含量高</td>\n",
       "    </tr>\n",
       "    <tr>\n",
       "      <th>42338</th>\n",
       "      <td>https://www.douyin.com/video/7350480407307078927</td>\n",
       "      <td>7350523010317200384</td>\n",
       "      <td>2024-03-26 12:23:27</td>\n",
       "      <td>2</td>\n",
       "      <td>0</td>\n",
       "      <td>福建</td>\n",
       "      <td>霸气</td>\n",
       "    </tr>\n",
       "    <tr>\n",
       "      <th>42339</th>\n",
       "      <td>https://www.douyin.com/video/7350480407307078927</td>\n",
       "      <td>7350500954548070400</td>\n",
       "      <td>2024-03-26 10:57:57</td>\n",
       "      <td>8</td>\n",
       "      <td>2</td>\n",
       "      <td>广东</td>\n",
       "      <td>送给理想一句话：\\n从车主中走来，再走到车主中去。</td>\n",
       "    </tr>\n",
       "  </tbody>\n",
       "</table>\n",
       "<p>42340 rows × 7 columns</p>\n",
       "</div>"
      ],
      "text/plain": [
       "                                             video_link                  cid  \\\n",
       "0      https://www.douyin.com/video/6724238509927976206  6724315314135789568   \n",
       "1      https://www.douyin.com/video/6724238509927976206  6724307710353139712   \n",
       "2      https://www.douyin.com/video/6724238509927976206  6726852199668480000   \n",
       "3      https://www.douyin.com/video/6724238509927976206  6724309456349589504   \n",
       "4      https://www.douyin.com/video/6724238509927976206  6724324047796400128   \n",
       "...                                                 ...                  ...   \n",
       "42335  https://www.douyin.com/video/7350480407307078927  7350522030523710464   \n",
       "42336  https://www.douyin.com/video/7350480407307078927  7350527617931410432   \n",
       "42337  https://www.douyin.com/video/7350480407307078927  7350521168641030144   \n",
       "42338  https://www.douyin.com/video/7350480407307078927  7350523010317200384   \n",
       "42339  https://www.douyin.com/video/7350480407307078927  7350500954548070400   \n",
       "\n",
       "             comment_time  likes  replies comment_IP  \\\n",
       "0     2019-08-13 00:17:49    129        0          无   \n",
       "1     2019-08-12 23:48:15    274        2          无   \n",
       "2     2019-08-19 20:22:10    107        0          无   \n",
       "3     2019-08-12 23:55:03    214        2          无   \n",
       "4     2019-08-13 00:51:43    535        3          无   \n",
       "...                   ...    ...      ...        ...   \n",
       "42335 2024-03-26 12:19:41      2        0         湖北   \n",
       "42336 2024-03-26 12:41:19      2        0         河南   \n",
       "42337 2024-03-26 12:16:20      6        0         湖南   \n",
       "42338 2024-03-26 12:23:27      2        0         福建   \n",
       "42339 2024-03-26 10:57:57      8        2         广东   \n",
       "\n",
       "                             comment  \n",
       "0            渐强扶弱，拜强欺弱，根本区别再大的博物馆都没用  \n",
       "1                  英国留学让你更坚定认为自己是英国人  \n",
       "2                          老爷子也是一个伟人  \n",
       "3                        李光耀 要有认祖的初心  \n",
       "4      看不明白吧，这回家多少是华人，确不是中国的铁盟。值得研究。  \n",
       "...                              ...  \n",
       "42335                            理想的  \n",
       "42336                          漂亮的豪车  \n",
       "42337              现在的车越来越理想化了，科技含量高  \n",
       "42338                             霸气  \n",
       "42339      送给理想一句话：\\n从车主中走来，再走到车主中去。  \n",
       "\n",
       "[42340 rows x 7 columns]"
      ]
     },
     "execution_count": 4,
     "metadata": {},
     "output_type": "execute_result"
    }
   ],
   "source": [
    "li_comments"
   ]
  },
  {
   "cell_type": "code",
   "execution_count": 6,
   "metadata": {},
   "outputs": [],
   "source": [
    "aito_comments.to_excel(\"Data/annotated_aito_comment.xlsx\")"
   ]
  },
  {
   "cell_type": "code",
   "execution_count": 8,
   "metadata": {},
   "outputs": [],
   "source": [
    "li_annotated_comments = pd.read_excel('Data/annotated_li_comment.xlsx')\n",
    "aito_annotated_comments = pd.read_excel('Data/annotated_aito_comment.xlsx')"
   ]
  },
  {
   "cell_type": "code",
   "execution_count": 13,
   "metadata": {},
   "outputs": [
    {
     "data": {
      "text/html": [
       "<div>\n",
       "<style scoped>\n",
       "    .dataframe tbody tr th:only-of-type {\n",
       "        vertical-align: middle;\n",
       "    }\n",
       "\n",
       "    .dataframe tbody tr th {\n",
       "        vertical-align: top;\n",
       "    }\n",
       "\n",
       "    .dataframe thead th {\n",
       "        text-align: right;\n",
       "    }\n",
       "</style>\n",
       "<table border=\"1\" class=\"dataframe\">\n",
       "  <thead>\n",
       "    <tr style=\"text-align: right;\">\n",
       "      <th></th>\n",
       "      <th>Unnamed: 0</th>\n",
       "      <th>video_link</th>\n",
       "      <th>cid</th>\n",
       "      <th>comment_time</th>\n",
       "      <th>likes</th>\n",
       "      <th>replies</th>\n",
       "      <th>comment_IP</th>\n",
       "      <th>comment</th>\n",
       "      <th>sentiment</th>\n",
       "    </tr>\n",
       "  </thead>\n",
       "  <tbody>\n",
       "    <tr>\n",
       "      <th>0</th>\n",
       "      <td>0</td>\n",
       "      <td>https://www.douyin.com/video/6724238509927976206</td>\n",
       "      <td>6724315314135789568</td>\n",
       "      <td>2019-08-13 00:17:49</td>\n",
       "      <td>129</td>\n",
       "      <td>0</td>\n",
       "      <td>无</td>\n",
       "      <td>渐强扶弱，拜强欺弱，根本区别再大的博物馆都没用</td>\n",
       "      <td>negative</td>\n",
       "    </tr>\n",
       "    <tr>\n",
       "      <th>17</th>\n",
       "      <td>17</td>\n",
       "      <td>https://www.douyin.com/video/6724238509927976206</td>\n",
       "      <td>6724299197681680384</td>\n",
       "      <td>2019-08-12 23:15:13</td>\n",
       "      <td>12</td>\n",
       "      <td>0</td>\n",
       "      <td>无</td>\n",
       "      <td>这老头，也是唯利是图</td>\n",
       "      <td>negative</td>\n",
       "    </tr>\n",
       "    <tr>\n",
       "      <th>19</th>\n",
       "      <td>19</td>\n",
       "      <td>https://www.douyin.com/video/6724238509927976206</td>\n",
       "      <td>6724309394584219648</td>\n",
       "      <td>2019-08-12 23:54:48</td>\n",
       "      <td>20</td>\n",
       "      <td>0</td>\n",
       "      <td>无</td>\n",
       "      <td>小心阿三</td>\n",
       "      <td>negative</td>\n",
       "    </tr>\n",
       "    <tr>\n",
       "      <th>33</th>\n",
       "      <td>33</td>\n",
       "      <td>https://www.douyin.com/video/6724238509927976206</td>\n",
       "      <td>6724308044043249664</td>\n",
       "      <td>2019-08-12 23:49:33</td>\n",
       "      <td>4</td>\n",
       "      <td>0</td>\n",
       "      <td>无</td>\n",
       "      <td>只有钱才是万能的</td>\n",
       "      <td>negative</td>\n",
       "    </tr>\n",
       "    <tr>\n",
       "      <th>35</th>\n",
       "      <td>35</td>\n",
       "      <td>https://www.douyin.com/video/6724238509927976206</td>\n",
       "      <td>6724307449718989824</td>\n",
       "      <td>2019-08-12 23:47:15</td>\n",
       "      <td>13</td>\n",
       "      <td>0</td>\n",
       "      <td>无</td>\n",
       "      <td>别说他了</td>\n",
       "      <td>negative</td>\n",
       "    </tr>\n",
       "    <tr>\n",
       "      <th>...</th>\n",
       "      <td>...</td>\n",
       "      <td>...</td>\n",
       "      <td>...</td>\n",
       "      <td>...</td>\n",
       "      <td>...</td>\n",
       "      <td>...</td>\n",
       "      <td>...</td>\n",
       "      <td>...</td>\n",
       "      <td>...</td>\n",
       "    </tr>\n",
       "    <tr>\n",
       "      <th>42303</th>\n",
       "      <td>42303</td>\n",
       "      <td>https://www.douyin.com/video/7349840892657732874</td>\n",
       "      <td>7349917184259009536</td>\n",
       "      <td>2024-03-24 21:12:33</td>\n",
       "      <td>1</td>\n",
       "      <td>1</td>\n",
       "      <td>河北</td>\n",
       "      <td>总感觉电动汽车不如燃油汽车</td>\n",
       "      <td>negative</td>\n",
       "    </tr>\n",
       "    <tr>\n",
       "      <th>42304</th>\n",
       "      <td>42304</td>\n",
       "      <td>https://www.douyin.com/video/7349840892657732874</td>\n",
       "      <td>7349917011944550400</td>\n",
       "      <td>2024-03-24 21:11:52</td>\n",
       "      <td>1</td>\n",
       "      <td>4</td>\n",
       "      <td>河南</td>\n",
       "      <td>电车不方便</td>\n",
       "      <td>negative</td>\n",
       "    </tr>\n",
       "    <tr>\n",
       "      <th>42309</th>\n",
       "      <td>42309</td>\n",
       "      <td>https://www.douyin.com/video/7350192772135095602</td>\n",
       "      <td>7350223065974349824</td>\n",
       "      <td>2024-03-25 16:59:35</td>\n",
       "      <td>6</td>\n",
       "      <td>0</td>\n",
       "      <td>江苏</td>\n",
       "      <td>姐姐完全不拍了？</td>\n",
       "      <td>negative</td>\n",
       "    </tr>\n",
       "    <tr>\n",
       "      <th>42330</th>\n",
       "      <td>42330</td>\n",
       "      <td>https://www.douyin.com/video/7350192772135095602</td>\n",
       "      <td>7350336820028680192</td>\n",
       "      <td>2024-03-26 00:21:00</td>\n",
       "      <td>0</td>\n",
       "      <td>0</td>\n",
       "      <td>湖北</td>\n",
       "      <td>你改理想该你不赚钱</td>\n",
       "      <td>negative</td>\n",
       "    </tr>\n",
       "    <tr>\n",
       "      <th>42331</th>\n",
       "      <td>42331</td>\n",
       "      <td>https://www.douyin.com/video/7350480407307078927</td>\n",
       "      <td>7350522003604549632</td>\n",
       "      <td>2024-03-26 12:19:33</td>\n",
       "      <td>25</td>\n",
       "      <td>0</td>\n",
       "      <td>山东</td>\n",
       "      <td>我理想中的车就是理想L9 但是理想终归是理想 我这辈子是开不上了</td>\n",
       "      <td>negative</td>\n",
       "    </tr>\n",
       "  </tbody>\n",
       "</table>\n",
       "<p>19145 rows × 9 columns</p>\n",
       "</div>"
      ],
      "text/plain": [
       "       Unnamed: 0                                        video_link  \\\n",
       "0               0  https://www.douyin.com/video/6724238509927976206   \n",
       "17             17  https://www.douyin.com/video/6724238509927976206   \n",
       "19             19  https://www.douyin.com/video/6724238509927976206   \n",
       "33             33  https://www.douyin.com/video/6724238509927976206   \n",
       "35             35  https://www.douyin.com/video/6724238509927976206   \n",
       "...           ...                                               ...   \n",
       "42303       42303  https://www.douyin.com/video/7349840892657732874   \n",
       "42304       42304  https://www.douyin.com/video/7349840892657732874   \n",
       "42309       42309  https://www.douyin.com/video/7350192772135095602   \n",
       "42330       42330  https://www.douyin.com/video/7350192772135095602   \n",
       "42331       42331  https://www.douyin.com/video/7350480407307078927   \n",
       "\n",
       "                       cid        comment_time  likes  replies comment_IP  \\\n",
       "0      6724315314135789568 2019-08-13 00:17:49    129        0          无   \n",
       "17     6724299197681680384 2019-08-12 23:15:13     12        0          无   \n",
       "19     6724309394584219648 2019-08-12 23:54:48     20        0          无   \n",
       "33     6724308044043249664 2019-08-12 23:49:33      4        0          无   \n",
       "35     6724307449718989824 2019-08-12 23:47:15     13        0          无   \n",
       "...                    ...                 ...    ...      ...        ...   \n",
       "42303  7349917184259009536 2024-03-24 21:12:33      1        1         河北   \n",
       "42304  7349917011944550400 2024-03-24 21:11:52      1        4         河南   \n",
       "42309  7350223065974349824 2024-03-25 16:59:35      6        0         江苏   \n",
       "42330  7350336820028680192 2024-03-26 00:21:00      0        0         湖北   \n",
       "42331  7350522003604549632 2024-03-26 12:19:33     25        0         山东   \n",
       "\n",
       "                                comment sentiment  \n",
       "0               渐强扶弱，拜强欺弱，根本区别再大的博物馆都没用  negative  \n",
       "17                           这老头，也是唯利是图  negative  \n",
       "19                                 小心阿三  negative  \n",
       "33                             只有钱才是万能的  negative  \n",
       "35                                 别说他了  negative  \n",
       "...                                 ...       ...  \n",
       "42303                     总感觉电动汽车不如燃油汽车  negative  \n",
       "42304                             电车不方便  negative  \n",
       "42309                          姐姐完全不拍了？  negative  \n",
       "42330                         你改理想该你不赚钱  negative  \n",
       "42331  我理想中的车就是理想L9 但是理想终归是理想 我这辈子是开不上了  negative  \n",
       "\n",
       "[19145 rows x 9 columns]"
      ]
     },
     "execution_count": 13,
     "metadata": {},
     "output_type": "execute_result"
    }
   ],
   "source": [
    "li_annotated_comments[li_annotated_comments['sentiment']]"
   ]
  },
  {
   "cell_type": "code",
   "execution_count": 15,
   "metadata": {},
   "outputs": [
    {
     "data": {
      "text/plain": [
       "sentiment\n",
       "negative    19145\n",
       "neutral     14106\n",
       "positive     9062\n",
       "Name: count, dtype: int64"
      ]
     },
     "execution_count": 15,
     "metadata": {},
     "output_type": "execute_result"
    }
   ],
   "source": [
    "li_annotated_comments['sentiment'].value_counts()"
   ]
  },
  {
   "cell_type": "code",
   "execution_count": 17,
   "metadata": {},
   "outputs": [
    {
     "data": {
      "text/plain": [
       "sentiment\n",
       "negative    14151\n",
       "neutral     12822\n",
       "positive     7814\n",
       "sorry           2\n",
       "oriented        1\n",
       "Name: count, dtype: int64"
      ]
     },
     "execution_count": 17,
     "metadata": {},
     "output_type": "execute_result"
    }
   ],
   "source": [
    "aito_annotated_comments['sentiment'].value_counts()"
   ]
  }
 ],
 "metadata": {
  "kernelspec": {
   "display_name": "python38",
   "language": "python",
   "name": "python3"
  },
  "language_info": {
   "codemirror_mode": {
    "name": "ipython",
    "version": 3
   },
   "file_extension": ".py",
   "mimetype": "text/x-python",
   "name": "python",
   "nbconvert_exporter": "python",
   "pygments_lexer": "ipython3",
   "version": "3.8.18"
  }
 },
 "nbformat": 4,
 "nbformat_minor": 2
}
